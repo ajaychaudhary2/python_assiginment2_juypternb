{
 "cells": [
  {
   "attachments": {
    "7a6a313a-37c5-4669-bec7-bb8fcac2a50a.png": {
     "image/png": "[encoded data removed]"
    }
   },
   "cell_type": "markdown",
   "id": "570df845-e78b-4790-a882-6accd4649c3a",
   "metadata": {},
   "source": [
    "![Screenshot 2024-02-11 094440.png](attachment:7a6a313a-37c5-4669-bec7-bb8fcac2a50a.png)\n"
   ]
  },
  {
   "cell_type": "markdown",
   "id": "93ed4aee-584b-4e27-aaa0-80723f85a04c",
   "metadata": {},
   "source": [
    "## Solution 1"
   ]
  },
  {
   "cell_type": "markdown",
   "id": "72e07849-c91a-4f12-9869-4751779ecade",
   "metadata": {},
   "source": [
    "### > The boolean data type has two possible values: True and False. In programming languages, these values are typically written exactly as shown, in uppercase letters: True and False, if you write it like this 'true'or 'false' you should get a error  because python is a case sensative langauge where the  captial and small letters are consider as different "
   ]
  },
  {
   "cell_type": "markdown",
   "id": "4358285a-7044-4a26-81d7-7a23aaa1d2b0",
   "metadata": {},
   "source": [
    "#### >> we write this like this"
   ]
  },
  {
   "cell_type": "code",
   "execution_count": 1,
   "id": "43f41961-a5bf-4884-8f90-d0ac7bb79245",
   "metadata": {},
   "outputs": [],
   "source": [
    "is_true = True;\n",
    "is_false = False;\n"
   ]
  },
  {
   "cell_type": "markdown",
   "id": "967d65c8-ce7b-4fe4-afe1-a33f14b60dd2",
   "metadata": {},
   "source": [
    "## _____________________________________________________________________________________________________"
   ]
  },
  {
   "attachments": {
    "1a76c826-ce1c-4c37-b569-f60a3f3e0227.png": {
     "image/png": "[encoded data removed]"
    }
   },
   "cell_type": "markdown",
   "id": "4c807565-8ab3-4144-849f-41fec2551387",
   "metadata": {},
   "source": [
    "![Screenshot 2024-02-11 095656.png](attachment:1a76c826-ce1c-4c37-b569-f60a3f3e0227.png)"
   ]
  },
  {
   "cell_type": "markdown",
   "id": "12ce09be-873a-4de1-a1e9-115ef4ba34c7",
   "metadata": {},
   "source": [
    "## Solution 2"
   ]
  },
  {
   "cell_type": "markdown",
   "id": "f7666291-1d21-449b-b6cc-9fccf9b3d63f",
   "metadata": {},
   "source": [
    "### > There are three types of boolean operator  \n",
    "#### 1. AND operator('&&' or 'and') \n",
    "#### 2. OR operator ('||' or 'or')\n",
    "#### 3. NOT operator('!' or 'not')"
   ]
  },
  {
   "cell_type": "markdown",
   "id": "ba6853e2-be39-4bbe-903b-83fa603f0b08",
   "metadata": {},
   "source": [
    "#### >>> AND operator -> AND operator return true when the both conditions are true if one of them is false then it return the false"
   ]
  },
  {
   "cell_type": "code",
   "execution_count": 5,
   "id": "a98b7d80-f1a7-40c3-a2e8-8405d330ff21",
   "metadata": {},
   "outputs": [
    {
     "name": "stdout",
     "output_type": "stream",
     "text": [
      "False\n"
     ]
    }
   ],
   "source": [
    "x = True\n",
    "y= False\n",
    "#here the ouptput is false not if when we make both conditions true then the outout is true\n",
    "result = x and y\n",
    "print(result)\n"
   ]
  },
  {
   "cell_type": "markdown",
   "id": "0c87d8a5-068d-4ad2-af9b-d34f802f71ca",
   "metadata": {},
   "source": [
    "#### >>> OR operator -> OR operator return true when one of the  given conditon is true   if   one is ture then it return the true"
   ]
  },
  {
   "cell_type": "code",
   "execution_count": 6,
   "id": "2646db57-0167-475a-89ca-b4713d59f621",
   "metadata": {},
   "outputs": [
    {
     "name": "stdout",
     "output_type": "stream",
     "text": [
      "True\n"
     ]
    }
   ],
   "source": [
    "x = True\n",
    "y = False\n",
    "# here the output is true because one is true\n",
    "result =  x or y\n",
    "print(result)"
   ]
  },
  {
   "cell_type": "markdown",
   "id": "5299cbf0-965f-4a88-a0a5-3c8cc23ba308",
   "metadata": {},
   "source": [
    "#### >>> NOT operator -> NOT operator  negates the Boolean value of its operand. If the operand is true, NOT returns false; if the operand is false, NOT returns true.  "
   ]
  },
  {
   "cell_type": "code",
   "execution_count": 7,
   "id": "3af0a713-5ca8-437e-9bd6-e1371eaebcee",
   "metadata": {},
   "outputs": [
    {
     "name": "stdout",
     "output_type": "stream",
     "text": [
      "True\n"
     ]
    }
   ],
   "source": [
    "x = False \n",
    "\n",
    "result = not x \n",
    "print(result)"
   ]
  },
  {
   "attachments": {
    "3b30bf5c-9c8f-49eb-9de0-4a58936ae8fb.png": {
     "image/png": "[encoded data removed]"
    }
   },
   "cell_type": "markdown",
   "id": "853a2bef-b942-409a-b65c-07ca69e5e343",
   "metadata": {},
   "source": [
    "![Screenshot 2024-02-11 102029.png](attachment:3b30bf5c-9c8f-49eb-9de0-4a58936ae8fb.png)"
   ]
  },
  {
   "cell_type": "markdown",
   "id": "93d44c97-bf28-4ab7-a7b6-850ee022b32e",
   "metadata": {},
   "source": [
    "## Solution 3"
   ]
  },
  {
   "cell_type": "markdown",
   "id": "6057b402-24b0-4ab8-af24-21c044626ff9",
   "metadata": {},
   "source": [
    "#### the truth tables for the three main Boolean operators: AND (&& or and), OR (|| or or), and NOT (! or not):"
   ]
  },
  {
   "cell_type": "markdown",
   "id": "4d288168-8e0f-4c75-8db1-dd2516d783e9",
   "metadata": {},
   "source": [
    "### >>> AND  operator \n",
    "\n",
    "#### False && False = False\n",
    "\n",
    "####  False && True = False\n",
    "\n",
    "#### True && False = False\n",
    "\n",
    "#### True && True =True"
   ]
  },
  {
   "cell_type": "markdown",
   "id": "bf4115db-e420-4f22-8aa2-d2ecd51bdf30",
   "metadata": {},
   "source": [
    "### >>> OR operator\n",
    "\n",
    "#### False or False = False\n",
    "\n",
    "#### False or True = True\n",
    "\n",
    "#### True or False = True\n",
    "\n",
    "#### True or True = True "
   ]
  },
  {
   "cell_type": "markdown",
   "id": "8da8e556-d18c-4b76-ab0d-c46b864e27fa",
   "metadata": {},
   "source": [
    "### >>> NOT operator\n",
    "\n",
    "#### ! False = True \n",
    "\n",
    "#### !True = False "
   ]
  },
  {
   "cell_type": "markdown",
   "id": "d7e6f514-24c4-4724-9572-3b39b35fcd8e",
   "metadata": {},
   "source": [
    "## _____________________________________________________________________________________________________"
   ]
  },
  {
   "attachments": {
    "fb9979e1-cd4e-4cf5-87fb-579f47dd915d.png": {
     "image/png": "[encoded data removed]"
    }
   },
   "cell_type": "markdown",
   "id": "fd9a088b-352a-4f82-a050-797f485eeb85",
   "metadata": {},
   "source": [
    "![Screenshot 2024-02-11 101317.png](attachment:fb9979e1-cd4e-4cf5-87fb-579f47dd915d.png)"
   ]
  },
  {
   "cell_type": "markdown",
   "id": "abc917a8-3b1f-4ffe-b685-f4c8620edb88",
   "metadata": {},
   "source": [
    "## Solution 4"
   ]
  },
  {
   "cell_type": "markdown",
   "id": "c625c9b4-56c6-467f-833f-665153c24f61",
   "metadata": {},
   "source": [
    "### 1. (5 > 4) and (3 == 5)\r",
    " ####   Result: True and False => False"
   ]
  },
  {
   "cell_type": "markdown",
   "id": "2d948c72-1a8b-452a-8e83-c6bc58de2b13",
   "metadata": {},
   "source": [
    "### 2. not (5 > 4)\r",
    "####   Result: not True => False"
   ]
  },
  {
   "cell_type": "markdown",
   "id": "c781d32b-bcb0-4903-b92f-268b65025101",
   "metadata": {},
   "source": [
    "### 3. (5 > 4) or (3 == 5)\r",
    "####   Result: True or False => True"
   ]
  },
  {
   "cell_type": "markdown",
   "id": "398e13f1-cb52-4bcf-8049-a0e37306b5b3",
   "metadata": {},
   "source": [
    "### 4. not ((5 > 4) or (3 == 5))\r",
    "####   Result: not (True or False) => not True => False"
   ]
  },
  {
   "cell_type": "markdown",
   "id": "edb64a7c-8760-49d7-93a8-4073b969551d",
   "metadata": {},
   "source": [
    "### 5. (True and True) and (True == False)\r",
    "####   Result: True and False => False"
   ]
  },
  {
   "cell_type": "markdown",
   "id": "a00063fd-e2fd-4d3a-8756-806c8b18fb53",
   "metadata": {},
   "source": [
    "### 6. (not False) or (not True)\r",
    "####   Result: True or False => True"
   ]
  },
  {
   "cell_type": "markdown",
   "id": "2c5ccb22-9a2e-4a7c-afc2-90a3388413b9",
   "metadata": {},
   "source": [
    "## _____________________________________________________________________________________________________"
   ]
  },
  {
   "attachments": {
    "c0a161f9-6249-4d4b-8e90-c4d6846ad67b.png": {
     "image/png": "[encoded data removed]"
    }
   },
   "cell_type": "markdown",
   "id": "4d6b1bda-729c-4665-9a51-ca3c8115f2fe",
   "metadata": {},
   "source": [
    "![Screenshot 2024-02-11 103510.png](attachment:c0a161f9-6249-4d4b-8e90-c4d6846ad67b.png)"
   ]
  },
  {
   "cell_type": "markdown",
   "id": "290322c0-253f-4ba6-8602-f7e83f7f3e9a",
   "metadata": {},
   "source": [
    "## Solution 5"
   ]
  },
  {
   "attachments": {},
   "cell_type": "markdown",
   "id": "11d752b3-d5b1-4309-b048-7894bb7f15b2",
   "metadata": {},
   "source": [
    "### The six comparison operators are used to compare values and produce a Boolean result (either True or False). Here are the six comparison operators:"
   ]
  },
  {
   "cell_type": "markdown",
   "id": "ab271747-5834-4d18-a5fd-2780fb8669b5",
   "metadata": {},
   "source": [
    "#### 1. Equal to (==)\n",
    "#### 2. Not Equal to(!=)\n",
    "#### 3. Greater than(>) \n",
    "#### 4. Lesser than(<)\n",
    "#### 5. Greater than or Equal to (>=)\n",
    "#### 6 lesser than or Equal to (<=)"
   ]
  },
  {
   "cell_type": "markdown",
   "id": "fe2ac5a5-e869-45e2-9fd6-80e580511cd5",
   "metadata": {},
   "source": [
    "## _____________________________________________________________________________________________________"
   ]
  },
  {
   "attachments": {
    "a96356eb-7a47-4f01-9605-9ba3fc203ba5.png": {
     "image/png": "[encoded data removed]"
    }
   },
   "cell_type": "markdown",
   "id": "f2d295fe-8dd8-42fc-9402-977c9bca5bbb",
   "metadata": {},
   "source": [
    "![Screenshot 2024-02-11 104157.png](attachment:a96356eb-7a47-4f01-9605-9ba3fc203ba5.png)"
   ]
  },
  {
   "cell_type": "markdown",
   "id": "20a5e3a3-9378-40e9-8bbb-d63825665e3e",
   "metadata": {},
   "source": [
    "## Solution 6"
   ]
  },
  {
   "cell_type": "markdown",
   "id": "53379c72-a509-4935-94ac-2c6980ddf9d7",
   "metadata": {},
   "source": [
    "### >> the equal to (==) operator and the assignment (=) operator serve different purposes in programming"
   ]
  },
  {
   "cell_type": "markdown",
   "id": "41c43b0a-c608-4d71-b25f-3ac222df139d",
   "metadata": {},
   "source": [
    "### >>> (==) use to  check if he value is equal to the given value or not"
   ]
  },
  {
   "cell_type": "markdown",
   "id": "07eda5c2-8323-4649-8477-6fc5f7e74196",
   "metadata": {},
   "source": [
    "### >>> (=) use to assign the value  to a variable"
   ]
  },
  {
   "cell_type": "code",
   "execution_count": 9,
   "id": "31e9f03e-e662-4045-8055-d21378a6c217",
   "metadata": {},
   "outputs": [
    {
     "name": "stdout",
     "output_type": "stream",
     "text": [
      "x is not equal to y\n"
     ]
    }
   ],
   "source": [
    " x = 5 # Here we assign value 5 to x so we use the (=)\n",
    " y = 4\n",
    "\n",
    "if x == y :# Here we compare x and y   so we use the (==)\n",
    "    print(\"x is equal to y\")\n",
    "\n",
    "else:\n",
    "    print(\"x is not equal to y\")"
   ]
  },
  {
   "cell_type": "markdown",
   "id": "ccaf657f-04b4-476c-9619-454cb79a5049",
   "metadata": {},
   "source": [
    "## _____________________________________________________________________________________________________"
   ]
  },
  {
   "attachments": {
    "8b302b88-0e4b-4632-bd6f-4bab94bf2ca6.png": {
     "image/png": "[encoded data removed]"
    }
   },
   "cell_type": "markdown",
   "id": "e8f4b84e-1bcf-4f81-8723-b8a42bbd8fcc",
   "metadata": {},
   "source": [
    "![Screenshot 2024-02-11 105513.png](attachment:8b302b88-0e4b-4632-bd6f-4bab94bf2ca6.png)"
   ]
  },
  {
   "cell_type": "code",
   "execution_count": 10,
   "id": "b690bde7-a70b-440f-b59c-819b5a17a512",
   "metadata": {},
   "outputs": [
    {
     "name": "stdout",
     "output_type": "stream",
     "text": [
      "ham\n",
      "spam\n",
      "sapm\n"
     ]
    }
   ],
   "source": [
    " spam = 0 # Block 1\n",
    "\n",
    "if spam == 10 :# Block 2\n",
    "    \n",
    "    print('eggs')\n",
    "    \n",
    "if spam>5: #Block 3\n",
    "    \n",
    "    print('bacon')\n",
    "    \n",
    "else: # this is associated with the second if\n",
    "    \n",
    "    print('ham')# this print is associated with the else\n",
    "    \n",
    "print('spam') # this print is not assoicated with any condition\n",
    "\n",
    "print('spam') # this is also not associated with any condtion"
   ]
  },
  {
   "cell_type": "code",
   "execution_count": null,
   "id": "6b833729-5247-4f2c-b3d4-b99d1bd0b85f",
   "metadata": {},
   "outputs": [],
   "source": [
    "# Block 1\n",
    "\n",
    "spam = 0"
   ]
  },
  {
   "cell_type": "code",
   "execution_count": null,
   "id": "a29ddd68-0511-4e05-b807-64a2d7c44e85",
   "metadata": {},
   "outputs": [],
   "source": [
    "# Block 2\n",
    "\n",
    "if spam == 10 :\n",
    "    print('eggs')"
   ]
  },
  {
   "cell_type": "code",
   "execution_count": null,
   "id": "9c295e85-6eed-4141-8d7a-e224bd6f5769",
   "metadata": {},
   "outputs": [],
   "source": [
    "# Block 3 \n",
    "\n",
    "if spam > 5:\n",
    "    \n",
    "    print('bacon')\n",
    "    \n",
    "else():\n",
    "\n",
    "print('ham')"
   ]
  },
  {
   "cell_type": "markdown",
   "id": "b0d4b1ac-1a58-457d-8548-d88e21765687",
   "metadata": {},
   "source": [
    "## _____________________________________________________________________________________________________"
   ]
  },
  {
   "attachments": {
    "1f86dd9e-5507-49c4-8178-d25c20baa4f0.png": {
     "image/png": "[encoded data removed]"
    }
   },
   "cell_type": "markdown",
   "id": "2b9045df-3c4b-483a-aa9b-eb52ed402ca5",
   "metadata": {},
   "source": [
    "![Screenshot 2024-02-11 110424.png](attachment:1f86dd9e-5507-49c4-8178-d25c20baa4f0.png)"
   ]
  },
  {
   "cell_type": "markdown",
   "id": "f5bd069b-5914-4111-b330-8237cbec5d5c",
   "metadata": {},
   "source": [
    "## Solution 8"
   ]
  },
  {
   "cell_type": "code",
   "execution_count": 13,
   "id": "7531daa0-e4b1-4ac0-8f67-bd605e8ea8b0",
   "metadata": {},
   "outputs": [
    {
     "name": "stdin",
     "output_type": "stream",
     "text": [
      "Please , Enter the number -> 5\n"
     ]
    },
    {
     "name": "stdout",
     "output_type": "stream",
     "text": [
      "Greetings\n"
     ]
    }
   ],
   "source": [
    "spam = int(input(\"Please , Enter the number ->\"));\n",
    "\n",
    "if spam == 1 :\n",
    "    \n",
    "    print(\"Hello\")\n",
    "\n",
    "elif spam == 2 :\n",
    "\n",
    "    print(\"Howdy\")\n",
    "\n",
    "else :\n",
    "    print(\"Greetings\")"
   ]
  },
  {
   "attachments": {
    "e20b5dd6-f5b9-44b6-839c-c6d2541544cc.png": {
     "image/png": "[encoded data removed]"
    }
   },
   "cell_type": "markdown",
   "id": "5e819b02-e0d2-4222-86bb-9bbe44e77eb8",
   "metadata": {},
   "source": [
    "![Screenshot 2024-02-11 111018.png](attachment:e20b5dd6-f5b9-44b6-839c-c6d2541544cc.png)\n"
   ]
  },
  {
   "cell_type": "markdown",
   "id": "ebf355a2-913e-4dba-ae15-ca8ad2b24550",
   "metadata": {},
   "source": [
    "## Solution 9"
   ]
  },
  {
   "cell_type": "markdown",
   "id": "0a6d3cf4-2b14-44a9-9228-ed80b85eabf7",
   "metadata": {},
   "source": [
    "### >> crtl + c  (Control key and C key together) to send a keyboard interrupt signal to the running program. This should terminate the program and break out of the endless loop."
   ]
  },
  {
   "cell_type": "markdown",
   "id": "8b8e90a8-a276-4b84-8f13-c892ff6a07bd",
   "metadata": {},
   "source": [
    "## _____________________________________________________________________________________________________"
   ]
  },
  {
   "attachments": {
    "c8b3624a-dfc6-4f6c-945b-e1955e965a25.png": {
     "image/png": "[encoded data removed]"
    }
   },
   "cell_type": "markdown",
   "id": "ebe36227-7264-4b31-9624-fe0a300cb1ec",
   "metadata": {},
   "source": [
    "![Screenshot 2024-02-11 111721.png](attachment:c8b3624a-dfc6-4f6c-945b-e1955e965a25.png)\n"
   ]
  },
  {
   "cell_type": "markdown",
   "id": "45b84555-9854-428f-92bb-261637db17b6",
   "metadata": {},
   "source": [
    "## Solution 10"
   ]
  },
  {
   "cell_type": "markdown",
   "id": "d67a37fd-ccd4-4456-8df1-36c4cfae949b",
   "metadata": {},
   "source": [
    "### >>> Break is used when we want to  break the loop permanentely  if we use  break   we come outside the loop permanently"
   ]
  },
  {
   "cell_type": "code",
   "execution_count": null,
   "id": "f3181ab5-5a04-431b-a0e1-eb06631074ef",
   "metadata": {},
   "outputs": [],
   "source": [
    "while True:\n",
    "\n",
    "    user_input = input(\"enter exit to exit\")\n",
    " \n",
    "    if user_input == 'exit' :\n",
    "        break\n",
    "    print(\"you entered\" , user_input)\n",
    "\n",
    "'''\n",
    " here if a user is print anything else the loop is running infinite time because it was\n",
    " a infinite loop   while true  and the contiditon is alaays true   so if a user enter exit \n",
    " than  the loop break  other wise the loop is  run  infinite type unit the user input  exit\n",
    " '''"
   ]
  },
  {
   "cell_type": "markdown",
   "id": "81580425-ab0d-4c7b-843b-b49e2000b14e",
   "metadata": {},
   "source": [
    "### >>> Continue is used when we want to to skip the rest of the code inside a loop for the current iteration and move to the next iteration. It doesn't exit the loop entirely; instead, it goes to the next iteration of the loop."
   ]
  },
  {
   "cell_type": "code",
   "execution_count": null,
   "id": "d440d323-f337-4bde-8da4-d17c8cc665dd",
   "metadata": {},
   "outputs": [],
   "source": [
    "for i in range (0,11):\n",
    "    if i == 3:\n",
    "        continue\n",
    "    print(i)\n",
    "\n",
    "# In this code when i = 3 this will skip the value 3 \n",
    " # so the output is  1,2,4,5,6,7,8,9,10"
   ]
  },
  {
   "attachments": {
    "1b2171d3-1cfc-4e15-8ba3-d2c86a34eeb3.png": {
     "image/png": "[encoded data removed]"
    }
   },
   "cell_type": "markdown",
   "id": "cced40d3-6c9f-43fd-bd4a-0962dfe7321f",
   "metadata": {},
   "source": [
    "![Screenshot 2024-02-11 113406.png](attachment:1b2171d3-1cfc-4e15-8ba3-d2c86a34eeb3.png)"
   ]
  },
  {
   "cell_type": "markdown",
   "id": "bd16d570-00e3-44f7-a14b-f5d62282a90c",
   "metadata": {},
   "source": [
    "## Solution 11"
   ]
  },
  {
   "cell_type": "markdown",
   "id": "59abcaae-906c-4ded-960a-58590ac4bbd3",
   "metadata": {},
   "source": [
    "### >>>range(10) - it gives the output {0,1,2,3,4,5,6,7,8,9} it basiclly start from zero and ends with (10-1) means 9  but there is no step or start value given so it assume 0 as a start value and 1 as a step"
   ]
  },
  {
   "cell_type": "markdown",
   "id": "20caeece-1577-40b7-96a1-7aa22aec606c",
   "metadata": {},
   "source": [
    "### >>> range(0,10) - it gives the output same as the upper (0,1,2,3,4,5,6,7,8,9) but here we have the start value 0  and by default 1 is taken as step value but in the upper one it assume by the pc"
   ]
  },
  {
   "cell_type": "markdown",
   "id": "881b6131-a878-46b5-99bf-99d30d7408a6",
   "metadata": {},
   "source": [
    "### range(0,10,1)  - it also give the output same as the upper once  but here all  (start , stop , step) values are given but in upeer once they were assumed output(0,1,2,3,4,5,6,7,8,9)\n"
   ]
  },
  {
   "cell_type": "markdown",
   "id": "9d5e0b8b-89b1-444e-abcc-b6c671d8f124",
   "metadata": {},
   "source": [
    "## _____________________________________________________________________________________________________"
   ]
  },
  {
   "attachments": {
    "96884874-bd17-4599-a7aa-d7101147614a.png": {
     "image/png": "[encoded data removed]"
    }
   },
   "cell_type": "markdown",
   "id": "2b177488-7f97-47f2-a503-c571995edb2b",
   "metadata": {},
   "source": [
    "![Screenshot 2024-02-14 110616.png](attachment:96884874-bd17-4599-a7aa-d7101147614a.png)"
   ]
  },
  {
   "cell_type": "markdown",
   "id": "c9879aaf-46ac-488a-b755-3cca840ce046",
   "metadata": {},
   "source": [
    "## Solution 12"
   ]
  },
  {
   "cell_type": "code",
   "execution_count": 2,
   "id": "9d7f55b3-c935-42fc-937c-ee594b324ff0",
   "metadata": {},
   "outputs": [
    {
     "name": "stdout",
     "output_type": "stream",
     "text": [
      "1\n",
      "2\n",
      "3\n",
      "4\n",
      "5\n",
      "6\n",
      "7\n",
      "8\n",
      "9\n",
      "10\n"
     ]
    }
   ],
   "source": [
    "# using for loop\n",
    "\n",
    "for i in range(1,11):\n",
    "    \n",
    "    print(i)"
   ]
  },
  {
   "cell_type": "code",
   "execution_count": 3,
   "id": "eb9f9bea-ff78-4f64-9fbf-94c4cd0f3986",
   "metadata": {},
   "outputs": [
    {
     "name": "stdout",
     "output_type": "stream",
     "text": [
      "1\n",
      "2\n",
      "3\n",
      "4\n",
      "5\n",
      "6\n",
      "7\n",
      "8\n",
      "9\n",
      "10\n"
     ]
    }
   ],
   "source": [
    "## using while loop \n",
    "\n",
    "i = 1 \n",
    "\n",
    "while i<=10:\n",
    "\n",
    "    print(i)\n",
    "   \n",
    "    i+= 1"
   ]
  },
  {
   "cell_type": "markdown",
   "id": "754008f7-0c28-48f2-8887-4339370e8210",
   "metadata": {},
   "source": [
    "## _____________________________________________________________________________________________________"
   ]
  },
  {
   "attachments": {
    "f43958b5-25e6-47ec-b0f7-4df05bb7fe3b.png": {
     "image/png": "[encoded data removed]"
    }
   },
   "cell_type": "markdown",
   "id": "b906ee33-6bab-4a4c-a2e3-a74e194c9eae",
   "metadata": {},
   "source": [
    "![Screenshot 2024-02-14 111040.png](attachment:f43958b5-25e6-47ec-b0f7-4df05bb7fe3b.png)"
   ]
  },
  {
   "cell_type": "markdown",
   "id": "46cc8073-dc85-4a3e-8ac4-358783ba21e4",
   "metadata": {},
   "source": [
    "## Solution 13"
   ]
  },
  {
   "cell_type": "markdown",
   "id": "7b101ab9-212b-4514-b6ae-8a6010d265cf",
   "metadata": {},
   "source": [
    "### If we have a function named bacon() inside a module named spam, and we want to call that function after importing the spam module, we would use the following syntax:"
   ]
  },
  {
   "cell_type": "code",
   "execution_count": null,
   "id": "ca34f2c2-253a-4731-8813-6e85d83f2dfc",
   "metadata": {},
   "outputs": [],
   "source": [
    "import spam\n",
    "\n",
    "spam.bacon()"
   ]
  },
  {
   "cell_type": "markdown",
   "id": "94ed9dae-64b8-493a-98b7-429a5c367699",
   "metadata": {},
   "source": [
    "### This assumes that the bacon() function is defined within the spam module. The import spam statement imports the entire spam module, and then we can access the bacon() function using the dot notation."
   ]
  },
  {
   "cell_type": "code",
   "execution_count": null,
   "id": "8cc4b0a1-6bd2-441d-b9e4-37ea206d120f",
   "metadata": {},
   "outputs": [],
   "source": []
  }
 ],
 "metadata": {
  "kernelspec": {
   "display_name": "Python 3 (ipykernel)",
   "language": "python",
   "name": "python3"
  },
  "language_info": {
   "codemirror_mode": {
    "name": "ipython",
    "version": 3
   },
   "file_extension": ".py",
   "mimetype": "text/x-python",
   "name": "python",
   "nbconvert_exporter": "python",
   "pygments_lexer": "ipython3",
   "version": "3.11.5"
  }
 },
 "nbformat": 4,
 "nbformat_minor": 5
}
